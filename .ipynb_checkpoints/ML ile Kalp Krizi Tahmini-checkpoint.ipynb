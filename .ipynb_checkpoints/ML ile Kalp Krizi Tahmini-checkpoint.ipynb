{
 "cells": [
  {
   "cell_type": "markdown",
   "metadata": {},
   "source": [
    "## Heart Disease Predictor project using GUI"
   ]
  },
  {
   "cell_type": "markdown",
   "metadata": {},
   "source": [
    "### 1. Makine Öğrenmesi için Gerekli Paketlerin Yüklenmesi"
   ]
  },
  {
   "cell_type": "code",
   "execution_count": 1,
   "metadata": {},
   "outputs": [
    {
     "data": {
      "text/plain": [
       "RandomForestClassifier()"
      ]
     },
     "execution_count": 1,
     "metadata": {},
     "output_type": "execute_result"
    }
   ],
   "source": [
    "import pandas as pd\n",
    "import numpy as np\n",
    "import matplotlib.pyplot as plt\n",
    "%matplotlib inline\n",
    "import seaborn as sns\n",
    "from sklearn.model_selection import train_test_split\n",
    "from sklearn.ensemble import RandomForestClassifier\n"
   ]
  },
  {
   "cell_type": "markdown",
   "metadata": {},
   "source": [
    "### Makine Öğrenmesi Modeli"
   ]
  },
  {
   "cell_type": "code",
   "execution_count": null,
   "metadata": {},
   "outputs": [],
   "source": [
    "data=pd.read_csv(\"heart.csv\")\n",
    "x=data.drop(columns=['target']).values\n",
    "y=data.target.values\n",
    "x_train,x_test,y_train,y_test=train_test_split(x,y,test_size=0.2,random_state=1)\n",
    "\n",
    "\n",
    "rfc=RandomForestClassifier(n_estimators=100)\n",
    "rfc.fit(x_train,y_train)"
   ]
  },
  {
   "cell_type": "markdown",
   "metadata": {},
   "source": [
    "### GUI için gerekli paketlerin yüklenmesi"
   ]
  },
  {
   "cell_type": "code",
   "execution_count": null,
   "metadata": {},
   "outputs": [],
   "source": [
    "from tkinter import *\n",
    "from tkinter.ttk import * \n",
    "import tkinter as tk\n",
    "from functools import partial\n",
    "import  tkinter.font as font"
   ]
  },
  {
   "cell_type": "markdown",
   "metadata": {},
   "source": [
    "### GUI uygulaması"
   ]
  },
  {
   "cell_type": "code",
   "execution_count": 2,
   "metadata": {},
   "outputs": [
    {
     "name": "stderr",
     "output_type": "stream",
     "text": [
      "Exception in Tkinter callback\n",
      "Traceback (most recent call last):\n",
      "  File \"/usr/local/anaconda/lib/python3.9/tkinter/__init__.py\", line 1892, in __call__\n",
      "    return self.func(*args)\n",
      "  File \"/tmp/ipykernel_3404/893917834.py\", line 22, in cal\n",
      "    num1=int(b)\n",
      "ValueError: invalid literal for int() with base 10: ''\n"
     ]
    }
   ],
   "source": [
    "def cal(age,sex,cp,restbps,chol,fbs,thalach,exang,slope,oldpeak,restecg,ca,nfr):\n",
    "    b=(age.get())\n",
    "    c=(sex.get())\n",
    "    d=(cp.get())\n",
    "    e=(restbps.get())\n",
    "    f=(chol.get())\n",
    "    g=(fbs.get())\n",
    "    h=(thalach.get())\n",
    "    i=(exang.get())\n",
    "    j=(slope.get())\n",
    "    k=(oldpeak.get())\n",
    "    l=(restecg.get())\n",
    "    m=(ca.get())\n",
    "    n=(nfr.get())\n",
    "    num1=int(b)\n",
    "    num2=int(c)\n",
    "    num3=int(d)\n",
    "    num4=int(e)\n",
    "    num5=int(f)\n",
    "    num6=int(g)\n",
    "    num7=int(h)\n",
    "    num8=int(i)\n",
    "    num9=int(j)\n",
    "    num10=float(k)\n",
    "    num11=int(l)\n",
    "    num12=int(m)\n",
    "    num13=int(n)\n",
    "    \n",
    "    input=[[num1,num2,num3,num4,num5,num6,num7,num8,num9,num10,num11,num12,num13]]\n",
    "    y_pred=rfc.predict(input)\n",
    "    if y_pred==1:\n",
    "        risk_lable=tk.Label(top,text=\": Kalp Krizi Riskiniz Yüksek\",fg=\"red\",font=(None,15)).place(x=860,y=400)\n",
    "    else:\n",
    "        risk_label=tk.Label(top,text=\": Kalp Krizi Riskiniz Düşük\",fg=\"green\",font=(None,15)).place(x=860,y=400)\n",
    "    return\n",
    "\n",
    "  \n",
    "class GFG: \n",
    "    def __init__(self, master = None): \n",
    "        self.master = master \n",
    "  \n",
    "        # Calls create method of class GFG \n",
    "        self.create() \n",
    "  \n",
    "    def create(self): \n",
    "  \n",
    "        # This creates a object of class canvas \n",
    "        self.canvas = Canvas(self.master) \n",
    "  \n",
    "        # This creates a line of length 200 (straight horizontal line) \n",
    "        self.canvas.create_line(420, 60, 420, 700) \n",
    "        self.canvas.create_line(5,60, 1160, 60) \n",
    "  \n",
    "      \n",
    "          \n",
    "        # This pack the canvas to the main window and make it expandable \n",
    "        self.canvas.pack(fill = BOTH, expand = True) \n",
    "  \n",
    "if __name__ == \"__main__\": \n",
    "    top=tk.Tk()\n",
    "    geeks = GFG(top) \n",
    "    top.geometry('1100x550+100+60')\n",
    "    top.title(\"Makine Öğrenmesi ile Kalp Krizi Riski Tahmini\")\n",
    "    myfont=font.Font(size=30)\n",
    "    \n",
    "    \n",
    "    age1=tk.StringVar()\n",
    "    sex2=tk.StringVar()\n",
    "    cp3=tk.StringVar()\n",
    "    restbps4=tk.StringVar()\n",
    "    chol5=tk.StringVar()\n",
    "    fbs6=tk.StringVar()\n",
    "    thalach7=tk.StringVar()\n",
    "    exang8=tk.StringVar()\n",
    "    slope9=tk.StringVar()\n",
    "    oldpeak10=tk.StringVar()\n",
    "    restecg11=tk.StringVar()\n",
    "    ca12=tk.StringVar()\n",
    "    nfr13=tk.StringVar()\n",
    "    \n",
    "    \n",
    "    #label=tk.LabelFrame(top,text=\"Heart Disease Predictor\",font=(None, 20,)).pack(fill=\"both\",expand=\"yes\")\n",
    "    label_top=tk.Label(top,text=\"Kalp Krizi Riski Tahmini\",font=(None,25),fg=\"red\").place(x=400,y=10)\n",
    "    l1=tk.Label(top,text=\"1. Yaş\",fg=\"blue\",font=(\"Courier\",10)).place(x=10,y=100)\n",
    "    l2=tk.Label(top,text=\"2. Cinsiyet\",fg=\"blue\",font=(\"Courier\",10)).place(x=10,y=120)\n",
    "    l3=tk.Label(top,text=\"3. Göğüs Ağrısı\",fg=\"blue\",font=(\"Courier\",10)).place(x=10,y=140)\n",
    "    l4=tk.Label(top,text=\"4. Dingin Kalp Tansiyonu\",fg=\"blue\",font=(\"Courier\",10)).place(x=10,y=160)\n",
    "    l5=tk.Label(top,text=\"5. Kolesterol\",fg=\"blue\",font=(\"Courier\",10)).place(x=10,y=180)\n",
    "    l6=tk.Label(top,text=\"6. Aç Karna Kan Şekeri\",fg=\"blue\",font=(\"Courier\",10)).place(x=10,y=200)\n",
    "    l7=tk.Label(top,text=\"7. Maksimum Nabız\",fg=\"blue\",font=(\"Courier\",10)).place(x=10,y=220)\n",
    "    l8=tk.Label(top,text=\"8. Göğüste Sıkışma Hissi\",fg=\"blue\",font=(\"Courier\",10)).place(x=10,y=240)\n",
    "    l9=tk.Label(top,text=\"9. ST Segmentli Kalp Çalışması:\",fg=\"blue\",font=(\"Courier\",10)).place(x=10,y=260)\n",
    "    l10=tk.Label(top,text=\"10. Dinlenmeye Bağlı Kalp Çalışması\",fg=\"blue\",font=(\"Courier\",10)).place(x=10,y=280)\n",
    "    l11=tk.Label(top,text=\"11. Açık Büyük Damar Sayısı\",fg=\"blue\",font=(\"Courier\",10)).place(x=10,y=300)\n",
    "    l12=tk.Label(top,text=\"12. EKG Sonuçları\",fg=\"blue\",font=(\"Courier\",10)).place(x=10,y=320)\n",
    "    l13=tk.Label(top,text=\"13. Durumunuz Normal ise(1)\",fg=\"blue\",font=(\"Courier\",10)).place(x=10,y=340)\n",
    "    l14=tk.Label(top,text=\"Sabit Miyokardiyal Perfüzyon Kusuru Var ise(2)\",fg=\"blue\",font=(\"Courier\",10)).place(x=10,y=360)\n",
    "    l15=tk.Label(top,text=\"Geri Dönüşümlü Miyokardiyal Perfüzyon Kusuru(3)\",fg=\"blue\",font=(\"Courier\",10)).place(x=10,y=380)\n",
    "    l16=tk.Label(top,text=\"Not:\",fg=\"red\",font=(\"Courier\",20)).place(x=10,y=420)\n",
    "    l17=tk.Label(top,text=\"Cinsiyetiniz Erkekse(1),Kadınsa(2) Yazınız\",fg=\"red\",font=(\"Courier\",10)).place(x=10,y=460)\n",
    "    l18=tk.Label(top,text=\"Göğüs Ağrınızı Derecelendiriniz (0,1,2,3)\",fg=\"red\",font=(\"Courier\",10)).place(x=10,y=480)\n",
    "    l19=tk.Label(top,text=\"Göğsünüzde Sıkışma Hissi Varsa(1),Yoksa(2) Yazınız\",fg=\"red\",font=(\"Courier\",10)).place(x=10,y=500)\n",
    "    l20=tk.Label(top,text=\"Kan Şekeriniz Varsa(1),Yoksa(2) Yazınız\",fg=\"red\",font=(\"Courier\",10)).place(x=10,y=520)\n",
    "    l21=tk.Label(top,text=\"EKG Sonuçlarınız:\",fg=\"red\",font=(\"Courier\",10)).place(x=10,y=540)\n",
    "    l22=tk.Label(top,text=\"İyi ise(1),Normal ise(2),Kötü ise(0) Veriniz\",fg=\"red\",font=(\"Courier\",10)).place(x=10,y=560)\n",
    "    l23=tk.Label(top,text=\"Açık Büyük Damar Sayınız (0,1,2,3,4)\",fg=\"red\",font=(\"Courier\",10)).place(x=10,y=580)\n",
    "    l24=tk.Label(top,text=\"ST Segmentli Kalp Çalışmanız Varsa(1)\",fg=\"red\",font=(\"Courier\",10)).place(x=10,y=600)\n",
    "    l24=tk.Label(top,text=\"Yoksa(0) Yazınız\",fg=\"red\",font=(\"Courier\",10)).place(x=10,y=620)\n",
    "    risk=tk.Label(top,text=\"Sonuç : \",fg=\"red\",font=(None,15)).place(x=800,y=400)\n",
    "        \n",
    "    age=tk.Label(top,text=\"Yaşınız:\",fg=\"black\",font=(None,13)).place(x=440,y=100)\n",
    "    ageE=tk.Entry(top,textvariable=age1).place(x=570,y=100,height=30,width=100)\n",
    "    \n",
    "    sex=tk.Label(top,text=\"Cinsiyetiniz:\",fg=\"black\",font=(None,13)).place(x=440,y=140)\n",
    "    sexE=tk.Entry(top,textvariable=sex2).place(x=570,y=140,height=30,width=100)\n",
    "    \n",
    "    cp=tk.Label(top,text=\"Göğüs Ağrınız:\",fg=\"black\",font=(None,13)).place(x=440,y=180)\n",
    "    cpE=tk.Entry(top,textvariable=cp3).place(x=570,y=180,height=30,width=100)\n",
    "\n",
    "    restbps=tk.Label(top,text=\"Tansiyonunuz:\",fg=\"black\",font=(None,13)).place(x=440,y=220)\n",
    "    restbpsE=tk.Entry(top,textvariable=restbps4).place(x=570,y=220,height=30,width=100)\n",
    "    \n",
    "    chol=tk.Label(top,text=\"Kolesterolünüz:\",fg=\"black\",font=(None,13)).place(x=440,y=260)\n",
    "    cholE=tk.Entry(top,textvariable=chol5).place(x=570,y=260,height=30,width=100)\n",
    "\n",
    "    fbs=tk.Label(top,text=\"Kan Şekeriniz:\",fg=\"black\",font=(None,13)).place(x=440,y=300)\n",
    "    fbsE=tk.Entry(top,textvariable=fbs6).place(x=570,y=300,height=30,width=100)\n",
    "    \n",
    "    thalach=tk.Label(top,text=\"Maks Nabzınız:\",fg=\"black\",font=(None,13)).place(x=440,y=340)\n",
    "    thalachE=tk.Entry(top,textvariable=thalach7).place(x=570,y=340,height=30,width=100)\n",
    "\n",
    "    exang=tk.Label(top,text=\"Göğüste Sıkışma Durumunuz:\",fg=\"black\",font=(None,13)).place(x=800,y=100)\n",
    "    exangE=tk.Entry(top,textvariable=exang8).place(x=1045,y=100,height=30,width=100)\n",
    "    \n",
    "    slope=tk.Label(top,text=\"ST Segmentli Kalp Çalışmanız:\",fg=\"black\",font=(None,13)).place(x=800,y=140)\n",
    "    slopeE=tk.Entry(top,textvariable=slope9).place(x=1045,y=140,height=30,width=100)\n",
    "\n",
    "    oldpeak=tk.Label(top,text=\"Normalde Kalp Çalışmanız:\",fg=\"black\",font=(None,13)).place(x=800,y=180)\n",
    "    oldpeakE=tk.Entry(top,textvariable=oldpeak10).place(x=1045,y=180,height=30,width=100)\n",
    "    \n",
    "    ca=tk.Label(top,text=\"Açık Büyük Damar Sayınız:\",fg=\"black\",font=(None,13)).place(x=800,y=220)\n",
    "    caE=tk.Entry(top,textvariable=ca12).place(x=1045,y=220,height=30,width=100)\n",
    "\n",
    "    restEcg=tk.Label(top,text=\"EKG Sonuçlarınız:\",fg=\"black\",font=(None,13)).place(x=800,y=260)\n",
    "    restEcgE=tk.Entry(top,textvariable=restecg11).place(x=1045,y=260,height=30,width=100)\n",
    "    \n",
    "    nfr=tk.Label(top,text=\"Koroner Arter Kusurunuz:\",fg=\"black\",font=(None,13)).place(x=800,y=300)\n",
    "    nfrE=tk.Entry(top,textvariable=nfr13).place(x=1045,y=300,height=30,width=100)\n",
    "                      \n",
    "            ## making partial function\n",
    "    cal=partial(cal,age1,sex2,cp3,restbps4,chol5,fbs6,thalach7,exang8,slope9,oldpeak10,restecg11,ca12,nfr13)\n",
    "                      \n",
    "\n",
    "    submit=tk.Button(top,text=\"Göster\",font=(None,12),fg=\"white\",bg=\"blue\",activeforeground=\"black\",activebackground=\"orange\",command=cal).place(x=440,y=400)\n",
    "\n",
    "    \n",
    "    top.mainloop()"
   ]
  },
  {
   "cell_type": "code",
   "execution_count": null,
   "metadata": {},
   "outputs": [],
   "source": []
  }
 ],
 "metadata": {
  "kernelspec": {
   "display_name": "Python 3 (ipykernel)",
   "language": "python",
   "name": "python3"
  },
  "language_info": {
   "codemirror_mode": {
    "name": "ipython",
    "version": 3
   },
   "file_extension": ".py",
   "mimetype": "text/x-python",
   "name": "python",
   "nbconvert_exporter": "python",
   "pygments_lexer": "ipython3",
   "version": "3.9.12"
  }
 },
 "nbformat": 4,
 "nbformat_minor": 4
}
